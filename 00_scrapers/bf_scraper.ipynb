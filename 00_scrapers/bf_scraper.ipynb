{
 "cells": [
  {
   "cell_type": "code",
   "execution_count": 1,
   "metadata": {},
   "outputs": [],
   "source": [
    "from selenium import webdriver\n",
    "from selenium.webdriver.common.by import By\n",
    "from credentials import url\n",
    "from selenium.common.exceptions import TimeoutException\n",
    "from threading"
   ]
  },
  {
   "cell_type": "code",
   "execution_count": null,
   "metadata": {},
   "outputs": [],
   "source": [
    "def add(x,y):\n",
    "    return x+y"
   ]
  },
  {
   "cell_type": "code",
   "execution_count": 9,
   "metadata": {},
   "outputs": [],
   "source": [
    "num_cases = 200\n",
    "partition_size = 20\n",
    "partitions = []\n",
    "for i in range(1, num_cases, partition_size):\n",
    "    partitions.append([i, i + partition_size - 1])"
   ]
  },
  {
   "cell_type": "code",
   "execution_count": 10,
   "metadata": {},
   "outputs": [
    {
     "data": {
      "text/plain": [
       "[[1, 20],\n",
       " [21, 40],\n",
       " [41, 60],\n",
       " [61, 80],\n",
       " [81, 100],\n",
       " [101, 120],\n",
       " [121, 140],\n",
       " [141, 160],\n",
       " [161, 180],\n",
       " [181, 200]]"
      ]
     },
     "execution_count": 10,
     "metadata": {},
     "output_type": "execute_result"
    }
   ],
   "source": [
    "partitions"
   ]
  },
  {
   "cell_type": "code",
   "execution_count": 5,
   "metadata": {},
   "outputs": [],
   "source": [
    "import pandas as pd"
   ]
  },
  {
   "cell_type": "code",
   "execution_count": null,
   "metadata": {},
   "outputs": [],
   "source": []
  },
  {
   "cell_type": "code",
   "execution_count": 11,
   "metadata": {},
   "outputs": [],
   "source": [
    "df = pd.read_csv(\"CourtCaseInfo.csv\")"
   ]
  },
  {
   "cell_type": "code",
   "execution_count": 15,
   "metadata": {},
   "outputs": [
    {
     "data": {
      "text/html": [
       "<div>\n",
       "<style scoped>\n",
       "    .dataframe tbody tr th:only-of-type {\n",
       "        vertical-align: middle;\n",
       "    }\n",
       "\n",
       "    .dataframe tbody tr th {\n",
       "        vertical-align: top;\n",
       "    }\n",
       "\n",
       "    .dataframe thead th {\n",
       "        text-align: right;\n",
       "    }\n",
       "</style>\n",
       "<table border=\"1\" class=\"dataframe\">\n",
       "  <thead>\n",
       "    <tr style=\"text-align: right;\">\n",
       "      <th></th>\n",
       "      <th>COUNTY_NUM</th>\n",
       "      <th>CASEYR</th>\n",
       "      <th>CASENUM</th>\n",
       "    </tr>\n",
       "  </thead>\n",
       "  <tbody>\n",
       "    <tr>\n",
       "      <th>count</th>\n",
       "      <td>15481.0</td>\n",
       "      <td>15481.000000</td>\n",
       "      <td>15481.000000</td>\n",
       "    </tr>\n",
       "    <tr>\n",
       "      <th>mean</th>\n",
       "      <td>2.0</td>\n",
       "      <td>15.579485</td>\n",
       "      <td>7618.187714</td>\n",
       "    </tr>\n",
       "    <tr>\n",
       "      <th>std</th>\n",
       "      <td>0.0</td>\n",
       "      <td>2.820129</td>\n",
       "      <td>4134.503593</td>\n",
       "    </tr>\n",
       "    <tr>\n",
       "      <th>min</th>\n",
       "      <td>2.0</td>\n",
       "      <td>11.000000</td>\n",
       "      <td>12.000000</td>\n",
       "    </tr>\n",
       "    <tr>\n",
       "      <th>25%</th>\n",
       "      <td>2.0</td>\n",
       "      <td>13.000000</td>\n",
       "      <td>4294.000000</td>\n",
       "    </tr>\n",
       "    <tr>\n",
       "      <th>50%</th>\n",
       "      <td>2.0</td>\n",
       "      <td>16.000000</td>\n",
       "      <td>7733.000000</td>\n",
       "    </tr>\n",
       "    <tr>\n",
       "      <th>75%</th>\n",
       "      <td>2.0</td>\n",
       "      <td>18.000000</td>\n",
       "      <td>10998.000000</td>\n",
       "    </tr>\n",
       "    <tr>\n",
       "      <th>max</th>\n",
       "      <td>2.0</td>\n",
       "      <td>20.000000</td>\n",
       "      <td>15632.000000</td>\n",
       "    </tr>\n",
       "  </tbody>\n",
       "</table>\n",
       "</div>"
      ],
      "text/plain": [
       "       COUNTY_NUM        CASEYR       CASENUM\n",
       "count     15481.0  15481.000000  15481.000000\n",
       "mean          2.0     15.579485   7618.187714\n",
       "std           0.0      2.820129   4134.503593\n",
       "min           2.0     11.000000     12.000000\n",
       "25%           2.0     13.000000   4294.000000\n",
       "50%           2.0     16.000000   7733.000000\n",
       "75%           2.0     18.000000  10998.000000\n",
       "max           2.0     20.000000  15632.000000"
      ]
     },
     "execution_count": 15,
     "metadata": {},
     "output_type": "execute_result"
    }
   ],
   "source": [
    "df[df[\"COUNTY_NUM\"] == 2].describe()"
   ]
  },
  {
   "cell_type": "code",
   "execution_count": 16,
   "metadata": {},
   "outputs": [],
   "source": [
    "import json\n",
    "\n",
    "json_file = \"./bfscraped/20_Lancaster_500_503.json\"\n",
    "\n",
    "with open(json_file) as file:\n",
    "    data = json.load(file)"
   ]
  },
  {
   "cell_type": "code",
   "execution_count": 19,
   "metadata": {},
   "outputs": [
    {
     "data": {
      "text/plain": [
       "dict_keys(['CI 02 20-500', 'CI 02 20-501', 'CI 02 20-502', 'CI 02 20-503'])"
      ]
     },
     "execution_count": 19,
     "metadata": {},
     "output_type": "execute_result"
    }
   ],
   "source": [
    "data.keys()"
   ]
  },
  {
   "cell_type": "code",
   "execution_count": 7,
   "metadata": {},
   "outputs": [],
   "source": [
    "file_name = str(year) + \"_\" + county + \"_\" + str(start) + \"_\" + str(end) + \".csv\"\n",
    "with open(file_name, \"w\") as fp:\n",
    "    pass"
   ]
  },
  {
   "cell_type": "code",
   "execution_count": 4,
   "metadata": {},
   "outputs": [],
   "source": [
    "county_code = 1\n",
    "if county == \"Lancaster\":\n",
    "    county_code = 2"
   ]
  },
  {
   "cell_type": "code",
   "execution_count": null,
   "metadata": {},
   "outputs": [],
   "source": [
    "browser = webdriver.Chrome(\"./chromedriver\")"
   ]
  },
  {
   "cell_type": "code",
   "execution_count": 6,
   "metadata": {},
   "outputs": [
    {
     "data": {
      "text/plain": [
       "499"
      ]
     },
     "execution_count": 6,
     "metadata": {},
     "output_type": "execute_result"
    }
   ],
   "source": [
    "for i in range(start, end + 1):\n",
    "    case_id = \"CI 0\" + str(county_code) + \" \" + str(year) + \"-\" + str(i)\n",
    "    \n",
    "    print(case_id)\n",
    "\n",
    "    try:\n",
    "        browser.get(url)\n",
    "\n",
    "        browser.find_element(By.ID, \"court_type\").send_keys(\"C\")\n",
    "        browser.find_element(By.ID, \"county_num\").send_keys(county_code)\n",
    "        browser.find_element(By.ID, \"case_type\").send_keys(\"CI\")\n",
    "        browser.find_element(By.ID, \"case_year\").send_keys(year)\n",
    "        browser.find_element(By.ID, \"case_id\").send_keys(i)\n",
    "\n",
    "        browser.find_element(By.ID, \"search\").click()\n",
    "\n",
    "        content = \"\\\"\" + str(browser.page_source) + \"\\\"\"\n",
    "\n",
    "        logged_case = \"\\\"\" + case_id + \"\\\",\" + content\n",
    "        \n",
    "        with open(file_name, \"a\") as fp:\n",
    "            fp.write(logged_case)\n",
    "\n",
    "    except TimeoutException as ex:\n",
    "        print(\"Timeout! for \" + case_id )\n",
    "    \n",
    "    "
   ]
  }
 ],
 "metadata": {
  "kernelspec": {
   "display_name": "base",
   "language": "python",
   "name": "python3"
  },
  "language_info": {
   "codemirror_mode": {
    "name": "ipython",
    "version": 3
   },
   "file_extension": ".py",
   "mimetype": "text/x-python",
   "name": "python",
   "nbconvert_exporter": "python",
   "pygments_lexer": "ipython3",
   "version": "3.9.13"
  },
  "orig_nbformat": 4
 },
 "nbformat": 4,
 "nbformat_minor": 2
}
