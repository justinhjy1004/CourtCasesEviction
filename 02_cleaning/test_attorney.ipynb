{
 "cells": [
  {
   "cell_type": "code",
   "execution_count": 29,
   "metadata": {},
   "outputs": [],
   "source": [
    "import pandas as pd\n",
    "import cleaner\n",
    "import re"
   ]
  },
  {
   "cell_type": "code",
   "execution_count": 30,
   "metadata": {},
   "outputs": [],
   "source": [
    "df = pd.read_csv(\"clean_all_cases.csv\")"
   ]
  },
  {
   "cell_type": "code",
   "execution_count": 31,
   "metadata": {},
   "outputs": [
    {
     "data": {
      "text/html": [
       "<div>\n",
       "<style scoped>\n",
       "    .dataframe tbody tr th:only-of-type {\n",
       "        vertical-align: middle;\n",
       "    }\n",
       "\n",
       "    .dataframe tbody tr th {\n",
       "        vertical-align: top;\n",
       "    }\n",
       "\n",
       "    .dataframe thead th {\n",
       "        text-align: right;\n",
       "    }\n",
       "</style>\n",
       "<table border=\"1\" class=\"dataframe\">\n",
       "  <thead>\n",
       "    <tr style=\"text-align: right;\">\n",
       "      <th></th>\n",
       "      <th>CASE_ID</th>\n",
       "      <th>CASE_SUMMARY</th>\n",
       "      <th>PARTIES</th>\n",
       "      <th>JUDGEMENT_INFO</th>\n",
       "      <th>ACTIONS</th>\n",
       "      <th>CASE_NAME</th>\n",
       "      <th>PLAINTIFF</th>\n",
       "      <th>DEFENDANT</th>\n",
       "      <th>JUDGE</th>\n",
       "      <th>PLAINTIFF_ATTORNEY</th>\n",
       "      <th>DEFENDANT_ATTORNEY</th>\n",
       "      <th>NUM_DEFENDANTS</th>\n",
       "      <th>DEFENDANTS_ADDRESS</th>\n",
       "      <th>FILING_DATE</th>\n",
       "      <th>CLOSING_DATE</th>\n",
       "      <th>DECISION</th>\n",
       "      <th>RESTITUTION</th>\n",
       "    </tr>\n",
       "  </thead>\n",
       "  <tbody>\n",
       "    <tr>\n",
       "      <th>0</th>\n",
       "      <td>CI 01 11-4935</td>\n",
       "      <td>In the County Court of Douglas County        ...</td>\n",
       "      <td>Party                              ...</td>\n",
       "      <td>NaN</td>\n",
       "      <td>...</td>\n",
       "      <td>S&amp;M Realty, LLC v. Chad Rudiger</td>\n",
       "      <td>S&amp;M Realty, LLC</td>\n",
       "      <td>Chad Rudiger</td>\n",
       "      <td>Jeffrey L Marcuzzo</td>\n",
       "      <td>John C Chatelain</td>\n",
       "      <td>NaN</td>\n",
       "      <td>2</td>\n",
       "      <td>3131 S 134th Street, Omaha, NE 68144</td>\n",
       "      <td>03/01/2011</td>\n",
       "      <td>03/15/2011</td>\n",
       "      <td>Settled/Dismissed by Party</td>\n",
       "      <td>False</td>\n",
       "    </tr>\n",
       "    <tr>\n",
       "      <th>1</th>\n",
       "      <td>CI 01 11-4944</td>\n",
       "      <td>In the County Court of Douglas County        ...</td>\n",
       "      <td>Party                              ...</td>\n",
       "      <td>On 03/15/2011 judgment of Restitution of Prem...</td>\n",
       "      <td>...</td>\n",
       "      <td>Grandridge Apartments v. Karen Ackland</td>\n",
       "      <td>Grandridge Apartments</td>\n",
       "      <td>Karen Ackland</td>\n",
       "      <td>Craig Q McDermott</td>\n",
       "      <td>Ryan J Lewis</td>\n",
       "      <td>NaN</td>\n",
       "      <td>1</td>\n",
       "      <td>10021 Arcadia Plaza #9, Apt 1409, Omaha, NE 68134</td>\n",
       "      <td>03/01/2011</td>\n",
       "      <td>03/15/2011</td>\n",
       "      <td>Uncontested Default</td>\n",
       "      <td>True</td>\n",
       "    </tr>\n",
       "    <tr>\n",
       "      <th>2</th>\n",
       "      <td>CI 01 11-4963</td>\n",
       "      <td>In the County Court of Douglas County        ...</td>\n",
       "      <td>Party                              ...</td>\n",
       "      <td>On 03/15/2011 judgment of Restitution of Prem...</td>\n",
       "      <td>...</td>\n",
       "      <td>Lowell Goranson v. Shelley J Felton</td>\n",
       "      <td>Lowell Goranson</td>\n",
       "      <td>Shelley J Felton</td>\n",
       "      <td>Jeffrey L Marcuzzo</td>\n",
       "      <td>Patrick A McCormick</td>\n",
       "      <td>NaN</td>\n",
       "      <td>1</td>\n",
       "      <td>527 S 36th Street, #5, Omaha, NE 68105</td>\n",
       "      <td>03/01/2011</td>\n",
       "      <td>03/15/2011</td>\n",
       "      <td>Tried to Court</td>\n",
       "      <td>True</td>\n",
       "    </tr>\n",
       "    <tr>\n",
       "      <th>3</th>\n",
       "      <td>CI 01 11-4986</td>\n",
       "      <td>In the County Court of Douglas County        ...</td>\n",
       "      <td>Party                              ...</td>\n",
       "      <td>On 03/15/2011 judgment of Restitution of Prem...</td>\n",
       "      <td>...</td>\n",
       "      <td>Jill Nagel v. Ilena White</td>\n",
       "      <td>Jill Nagel</td>\n",
       "      <td>Ilena White</td>\n",
       "      <td>Craig Q McDermott</td>\n",
       "      <td>NaN</td>\n",
       "      <td>NaN</td>\n",
       "      <td>1</td>\n",
       "      <td>5134 N 37th Avenue, Omaha, NE</td>\n",
       "      <td>03/01/2011</td>\n",
       "      <td>03/15/2011</td>\n",
       "      <td>Uncontested Default</td>\n",
       "      <td>True</td>\n",
       "    </tr>\n",
       "    <tr>\n",
       "      <th>4</th>\n",
       "      <td>CI 01 11-4987</td>\n",
       "      <td>In the County Court of Douglas County        ...</td>\n",
       "      <td>Party                              ...</td>\n",
       "      <td>NaN</td>\n",
       "      <td>...</td>\n",
       "      <td>SGD 147 Center L.L.C. v. QA3 LLC</td>\n",
       "      <td>SGD 147 Center L.L.C.</td>\n",
       "      <td>QA3 LLC</td>\n",
       "      <td>Jeffrey L Marcuzzo</td>\n",
       "      <td>Janice M Woolley</td>\n",
       "      <td>NaN</td>\n",
       "      <td>1</td>\n",
       "      <td>14748 West Center Road, Suite 300, Omaha, NE</td>\n",
       "      <td>03/01/2011</td>\n",
       "      <td>03/11/2011</td>\n",
       "      <td>Suggestion of Bankruptcy</td>\n",
       "      <td>False</td>\n",
       "    </tr>\n",
       "  </tbody>\n",
       "</table>\n",
       "</div>"
      ],
      "text/plain": [
       "         CASE_ID                                       CASE_SUMMARY  \\\n",
       "0  CI 01 11-4935   In the County Court of Douglas County        ...   \n",
       "1  CI 01 11-4944   In the County Court of Douglas County        ...   \n",
       "2  CI 01 11-4963   In the County Court of Douglas County        ...   \n",
       "3  CI 01 11-4986   In the County Court of Douglas County        ...   \n",
       "4  CI 01 11-4987   In the County Court of Douglas County        ...   \n",
       "\n",
       "                                             PARTIES  \\\n",
       "0             Party                              ...   \n",
       "1             Party                              ...   \n",
       "2             Party                              ...   \n",
       "3             Party                              ...   \n",
       "4             Party                              ...   \n",
       "\n",
       "                                      JUDGEMENT_INFO  \\\n",
       "0                                                NaN   \n",
       "1   On 03/15/2011 judgment of Restitution of Prem...   \n",
       "2   On 03/15/2011 judgment of Restitution of Prem...   \n",
       "3   On 03/15/2011 judgment of Restitution of Prem...   \n",
       "4                                                NaN   \n",
       "\n",
       "                                             ACTIONS  \\\n",
       "0                                                ...   \n",
       "1                                                ...   \n",
       "2                                                ...   \n",
       "3                                                ...   \n",
       "4                                                ...   \n",
       "\n",
       "                                CASE_NAME              PLAINTIFF  \\\n",
       "0         S&M Realty, LLC v. Chad Rudiger        S&M Realty, LLC   \n",
       "1  Grandridge Apartments v. Karen Ackland  Grandridge Apartments   \n",
       "2     Lowell Goranson v. Shelley J Felton        Lowell Goranson   \n",
       "3               Jill Nagel v. Ilena White             Jill Nagel   \n",
       "4        SGD 147 Center L.L.C. v. QA3 LLC  SGD 147 Center L.L.C.   \n",
       "\n",
       "          DEFENDANT               JUDGE   PLAINTIFF_ATTORNEY  \\\n",
       "0      Chad Rudiger  Jeffrey L Marcuzzo     John C Chatelain   \n",
       "1     Karen Ackland   Craig Q McDermott         Ryan J Lewis   \n",
       "2  Shelley J Felton  Jeffrey L Marcuzzo  Patrick A McCormick   \n",
       "3       Ilena White   Craig Q McDermott                  NaN   \n",
       "4           QA3 LLC  Jeffrey L Marcuzzo     Janice M Woolley   \n",
       "\n",
       "  DEFENDANT_ATTORNEY NUM_DEFENDANTS  \\\n",
       "0                NaN              2   \n",
       "1                NaN              1   \n",
       "2                NaN              1   \n",
       "3                NaN              1   \n",
       "4                NaN              1   \n",
       "\n",
       "                                  DEFENDANTS_ADDRESS FILING_DATE CLOSING_DATE  \\\n",
       "0               3131 S 134th Street, Omaha, NE 68144  03/01/2011   03/15/2011   \n",
       "1  10021 Arcadia Plaza #9, Apt 1409, Omaha, NE 68134  03/01/2011   03/15/2011   \n",
       "2             527 S 36th Street, #5, Omaha, NE 68105  03/01/2011   03/15/2011   \n",
       "3                      5134 N 37th Avenue, Omaha, NE  03/01/2011   03/15/2011   \n",
       "4       14748 West Center Road, Suite 300, Omaha, NE  03/01/2011   03/11/2011   \n",
       "\n",
       "                     DECISION  RESTITUTION  \n",
       "0  Settled/Dismissed by Party        False  \n",
       "1         Uncontested Default         True  \n",
       "2              Tried to Court         True  \n",
       "3         Uncontested Default         True  \n",
       "4    Suggestion of Bankruptcy        False  "
      ]
     },
     "execution_count": 31,
     "metadata": {},
     "output_type": "execute_result"
    }
   ],
   "source": [
    "df.head()"
   ]
  },
  {
   "cell_type": "code",
   "execution_count": 23,
   "metadata": {},
   "outputs": [],
   "source": [
    "df[\"DEFENDANTS_ADDRESS\"] = df.apply(lambda x: cleaner.get_address(x.DEFENDANT, x.DEFENDANT_ATTORNEY, x.PARTIES), axis=1)"
   ]
  },
  {
   "cell_type": "code",
   "execution_count": 32,
   "metadata": {},
   "outputs": [
    {
     "data": {
      "text/plain": [
       "'6777 S 181st Court, Omaha, NE 68135'"
      ]
     },
     "execution_count": 32,
     "metadata": {},
     "output_type": "execute_result"
    }
   ],
   "source": [
    "df[\"DEFENDANTS_ADDRESS\"][5]"
   ]
  },
  {
   "cell_type": "code",
   "execution_count": 3,
   "metadata": {},
   "outputs": [],
   "source": [
    "ha = df[df[\"DEFENDANT_ATTORNEY\"].notna()]"
   ]
  },
  {
   "cell_type": "code",
   "execution_count": 19,
   "metadata": {},
   "outputs": [
    {
     "data": {
      "text/plain": [
       "'10021 Arcadia Plaza #9, Apt 1409, Omaha, '"
      ]
     },
     "execution_count": 19,
     "metadata": {},
     "output_type": "execute_result"
    }
   ],
   "source": [
    "df.DEFENDANTS_ADDRESS[1]"
   ]
  },
  {
   "cell_type": "code",
   "execution_count": null,
   "metadata": {},
   "outputs": [],
   "source": []
  }
 ],
 "metadata": {
  "kernelspec": {
   "display_name": "base",
   "language": "python",
   "name": "python3"
  },
  "language_info": {
   "codemirror_mode": {
    "name": "ipython",
    "version": 3
   },
   "file_extension": ".py",
   "mimetype": "text/x-python",
   "name": "python",
   "nbconvert_exporter": "python",
   "pygments_lexer": "ipython3",
   "version": "3.9.13"
  },
  "orig_nbformat": 4
 },
 "nbformat": 4,
 "nbformat_minor": 2
}
