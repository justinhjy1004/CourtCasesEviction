{
 "cells": [
  {
   "cell_type": "code",
   "execution_count": 146,
   "metadata": {},
   "outputs": [],
   "source": [
    "import pandas as pd\n",
    "import cleaner\n",
    "import re"
   ]
  },
  {
   "cell_type": "code",
   "execution_count": 147,
   "metadata": {},
   "outputs": [],
   "source": [
    "df = pd.read_csv(\"clean_all_cases.csv\")"
   ]
  },
  {
   "cell_type": "code",
   "execution_count": 148,
   "metadata": {},
   "outputs": [
    {
     "data": {
      "text/html": [
       "<div>\n",
       "<style scoped>\n",
       "    .dataframe tbody tr th:only-of-type {\n",
       "        vertical-align: middle;\n",
       "    }\n",
       "\n",
       "    .dataframe tbody tr th {\n",
       "        vertical-align: top;\n",
       "    }\n",
       "\n",
       "    .dataframe thead th {\n",
       "        text-align: right;\n",
       "    }\n",
       "</style>\n",
       "<table border=\"1\" class=\"dataframe\">\n",
       "  <thead>\n",
       "    <tr style=\"text-align: right;\">\n",
       "      <th></th>\n",
       "      <th>CASE_ID</th>\n",
       "      <th>CASE_SUMMARY</th>\n",
       "      <th>PARTIES</th>\n",
       "      <th>JUDGEMENT_INFO</th>\n",
       "      <th>ACTIONS</th>\n",
       "      <th>CASE_NAME</th>\n",
       "      <th>PLAINTIFF</th>\n",
       "      <th>DEFENDANT</th>\n",
       "      <th>JUDGE</th>\n",
       "      <th>PLAINTIFF_ATTORNEY</th>\n",
       "      <th>DEFENDANT_ATTORNEY</th>\n",
       "      <th>NUM_DEFENDANTS</th>\n",
       "      <th>DEFENDANTS_ADDRESS</th>\n",
       "      <th>FILING_DATE</th>\n",
       "      <th>CLOSING_DATE</th>\n",
       "      <th>DECISION</th>\n",
       "    </tr>\n",
       "  </thead>\n",
       "  <tbody>\n",
       "    <tr>\n",
       "      <th>0</th>\n",
       "      <td>CI 01 11-4935</td>\n",
       "      <td>In the County Court of Douglas County        ...</td>\n",
       "      <td>Party                              ...</td>\n",
       "      <td>NaN</td>\n",
       "      <td>...</td>\n",
       "      <td>S&amp;M Realty, LLC v. Chad Rudiger</td>\n",
       "      <td>S&amp;M Realty, LLC</td>\n",
       "      <td>Chad Rudiger</td>\n",
       "      <td>Jeffrey L Marcuzzo</td>\n",
       "      <td>John C Chatelain</td>\n",
       "      <td>NaN</td>\n",
       "      <td>2</td>\n",
       "      <td>3131 S 134th Street, Omaha, NE 68144</td>\n",
       "      <td>03/01/2011</td>\n",
       "      <td>03/15/2011</td>\n",
       "      <td>Settled/Dismissed by Party</td>\n",
       "    </tr>\n",
       "    <tr>\n",
       "      <th>1</th>\n",
       "      <td>CI 01 11-4944</td>\n",
       "      <td>In the County Court of Douglas County        ...</td>\n",
       "      <td>Party                              ...</td>\n",
       "      <td>On 03/15/2011 judgment of Restitution of Prem...</td>\n",
       "      <td>...</td>\n",
       "      <td>Grandridge Apartments v. Karen Ackland</td>\n",
       "      <td>Grandridge Apartments</td>\n",
       "      <td>Karen Ackland</td>\n",
       "      <td>Craig Q McDermott</td>\n",
       "      <td>Ryan J Lewis</td>\n",
       "      <td>NaN</td>\n",
       "      <td>1</td>\n",
       "      <td>10021 Arcadia Plaza #9, Apt 1409, Omaha, NE 68134</td>\n",
       "      <td>03/01/2011</td>\n",
       "      <td>03/15/2011</td>\n",
       "      <td>Uncontested Default</td>\n",
       "    </tr>\n",
       "    <tr>\n",
       "      <th>2</th>\n",
       "      <td>CI 01 11-4963</td>\n",
       "      <td>In the County Court of Douglas County        ...</td>\n",
       "      <td>Party                              ...</td>\n",
       "      <td>On 03/15/2011 judgment of Restitution of Prem...</td>\n",
       "      <td>...</td>\n",
       "      <td>Lowell Goranson v. Shelley J Felton</td>\n",
       "      <td>Lowell Goranson</td>\n",
       "      <td>Shelley J Felton</td>\n",
       "      <td>Jeffrey L Marcuzzo</td>\n",
       "      <td>Patrick A McCormick</td>\n",
       "      <td>NaN</td>\n",
       "      <td>1</td>\n",
       "      <td>527 S 36th Street, #5, Omaha, NE 68105</td>\n",
       "      <td>03/01/2011</td>\n",
       "      <td>03/15/2011</td>\n",
       "      <td>Tried to Court</td>\n",
       "    </tr>\n",
       "    <tr>\n",
       "      <th>3</th>\n",
       "      <td>CI 01 11-4986</td>\n",
       "      <td>In the County Court of Douglas County        ...</td>\n",
       "      <td>Party                              ...</td>\n",
       "      <td>On 03/15/2011 judgment of Restitution of Prem...</td>\n",
       "      <td>...</td>\n",
       "      <td>Jill Nagel v. Ilena White</td>\n",
       "      <td>Jill Nagel</td>\n",
       "      <td>Ilena White</td>\n",
       "      <td>Craig Q McDermott</td>\n",
       "      <td>NaN</td>\n",
       "      <td>NaN</td>\n",
       "      <td>1</td>\n",
       "      <td>NaN</td>\n",
       "      <td>03/01/2011</td>\n",
       "      <td>03/15/2011</td>\n",
       "      <td>Uncontested Default</td>\n",
       "    </tr>\n",
       "    <tr>\n",
       "      <th>4</th>\n",
       "      <td>CI 01 11-4987</td>\n",
       "      <td>In the County Court of Douglas County        ...</td>\n",
       "      <td>Party                              ...</td>\n",
       "      <td>NaN</td>\n",
       "      <td>...</td>\n",
       "      <td>SGD 147 Center L.L.C. v. QA3 LLC</td>\n",
       "      <td>SGD 147 Center L.L.C.</td>\n",
       "      <td>QA3 LLC</td>\n",
       "      <td>Jeffrey L Marcuzzo</td>\n",
       "      <td>Janice M Woolley</td>\n",
       "      <td>NaN</td>\n",
       "      <td>1</td>\n",
       "      <td>NaN</td>\n",
       "      <td>03/01/2011</td>\n",
       "      <td>03/11/2011</td>\n",
       "      <td>Suggestion of Bankruptcy</td>\n",
       "    </tr>\n",
       "  </tbody>\n",
       "</table>\n",
       "</div>"
      ],
      "text/plain": [
       "         CASE_ID                                       CASE_SUMMARY  \\\n",
       "0  CI 01 11-4935   In the County Court of Douglas County        ...   \n",
       "1  CI 01 11-4944   In the County Court of Douglas County        ...   \n",
       "2  CI 01 11-4963   In the County Court of Douglas County        ...   \n",
       "3  CI 01 11-4986   In the County Court of Douglas County        ...   \n",
       "4  CI 01 11-4987   In the County Court of Douglas County        ...   \n",
       "\n",
       "                                             PARTIES  \\\n",
       "0             Party                              ...   \n",
       "1             Party                              ...   \n",
       "2             Party                              ...   \n",
       "3             Party                              ...   \n",
       "4             Party                              ...   \n",
       "\n",
       "                                      JUDGEMENT_INFO  \\\n",
       "0                                                NaN   \n",
       "1   On 03/15/2011 judgment of Restitution of Prem...   \n",
       "2   On 03/15/2011 judgment of Restitution of Prem...   \n",
       "3   On 03/15/2011 judgment of Restitution of Prem...   \n",
       "4                                                NaN   \n",
       "\n",
       "                                             ACTIONS  \\\n",
       "0                                                ...   \n",
       "1                                                ...   \n",
       "2                                                ...   \n",
       "3                                                ...   \n",
       "4                                                ...   \n",
       "\n",
       "                                CASE_NAME              PLAINTIFF  \\\n",
       "0         S&M Realty, LLC v. Chad Rudiger        S&M Realty, LLC   \n",
       "1  Grandridge Apartments v. Karen Ackland  Grandridge Apartments   \n",
       "2     Lowell Goranson v. Shelley J Felton        Lowell Goranson   \n",
       "3               Jill Nagel v. Ilena White             Jill Nagel   \n",
       "4        SGD 147 Center L.L.C. v. QA3 LLC  SGD 147 Center L.L.C.   \n",
       "\n",
       "          DEFENDANT               JUDGE   PLAINTIFF_ATTORNEY  \\\n",
       "0      Chad Rudiger  Jeffrey L Marcuzzo     John C Chatelain   \n",
       "1     Karen Ackland   Craig Q McDermott         Ryan J Lewis   \n",
       "2  Shelley J Felton  Jeffrey L Marcuzzo  Patrick A McCormick   \n",
       "3       Ilena White   Craig Q McDermott                  NaN   \n",
       "4           QA3 LLC  Jeffrey L Marcuzzo     Janice M Woolley   \n",
       "\n",
       "  DEFENDANT_ATTORNEY NUM_DEFENDANTS  \\\n",
       "0                NaN              2   \n",
       "1                NaN              1   \n",
       "2                NaN              1   \n",
       "3                NaN              1   \n",
       "4                NaN              1   \n",
       "\n",
       "                                  DEFENDANTS_ADDRESS FILING_DATE CLOSING_DATE  \\\n",
       "0               3131 S 134th Street, Omaha, NE 68144  03/01/2011   03/15/2011   \n",
       "1  10021 Arcadia Plaza #9, Apt 1409, Omaha, NE 68134  03/01/2011   03/15/2011   \n",
       "2             527 S 36th Street, #5, Omaha, NE 68105  03/01/2011   03/15/2011   \n",
       "3                                                NaN  03/01/2011   03/15/2011   \n",
       "4                                                NaN  03/01/2011   03/11/2011   \n",
       "\n",
       "                     DECISION  \n",
       "0  Settled/Dismissed by Party  \n",
       "1         Uncontested Default  \n",
       "2              Tried to Court  \n",
       "3         Uncontested Default  \n",
       "4    Suggestion of Bankruptcy  "
      ]
     },
     "execution_count": 148,
     "metadata": {},
     "output_type": "execute_result"
    }
   ],
   "source": [
    "df.head(5)"
   ]
  },
  {
   "cell_type": "code",
   "execution_count": 149,
   "metadata": {},
   "outputs": [
    {
     "name": "stdout",
     "output_type": "stream",
     "text": [
      " On 03/15/2011 judgment of Restitution of Premises was entered.                 \n",
      "            The judgment creditor is Grandridge Apartments                      \n",
      "            The judgment debtor is Karen Ackland                                \n",
      " On 03/15/2011 judgment of Judgment Court Costs were entered for $67.00         \n",
      "            Balance due is $67.00                                               \n",
      "            The judgment creditor is Grandridge Apartments                      \n",
      "            The judgment debtor is Karen Ackland                                \n",
      " Post-Judgment Costs were entered for $5.00                                     \n",
      "            Balance due is $5.00                                                \n",
      "            The judgment creditor is Grandridge Apartments                      \n",
      "            The judgment debtor is Karen Ackland                                \n",
      "\n"
     ]
    }
   ],
   "source": [
    "print(df.JUDGEMENT_INFO[1])"
   ]
  },
  {
   "cell_type": "code",
   "execution_count": 150,
   "metadata": {},
   "outputs": [],
   "source": [
    "na_address = df[df.DEFENDANTS_ADDRESS.isna()].index"
   ]
  },
  {
   "cell_type": "code",
   "execution_count": 151,
   "metadata": {},
   "outputs": [
    {
     "name": "stdout",
     "output_type": "stream",
     "text": [
      "           Party                                Attorney                        \n",
      " Plaintiff ACTIVE                                                               \n",
      "     Grandridge Apartments                      Ryan J Lewis                    \n",
      "                                                10404 Essex Court, Suite 100    \n",
      "                                                Omaha              NE 68106     \n",
      "                                                402-502-9999                    \n",
      " Defendant ACTIVE                                                               \n",
      "     Karen Ackland                                                              \n",
      "     10021 Arcadia Plaza #9                                                     \n",
      "     Apt 1409                                                                   \n",
      "     Omaha              NE 68134                                                \n",
      " Karen Ackland owes  $72.00                                                     \n",
      "\n"
     ]
    }
   ],
   "source": [
    "print(df.PARTIES[1])"
   ]
  },
  {
   "cell_type": "code",
   "execution_count": 152,
   "metadata": {},
   "outputs": [
    {
     "name": "stdout",
     "output_type": "stream",
     "text": [
      "QA3 LLC\n",
      "SGD 147 Center L.L.C. v. QA3 LLC\n",
      " In the County Court of Douglas County                                          \n",
      " The Case ID is  CI 11 0004987                                                  \n",
      "                  SGD 147 Center L.L.C. v. QA3 LLC                              \n",
      " The Honorable Jeffrey L Marcuzzo, presiding.                                   \n",
      " Classification: Real Property-Landlord/Tenant                                  \n",
      " Filed on 03/01/2011                                                            \n",
      " This case is Closed as of 03/11/2011                                           \n",
      "    It was disposed as  Suggestion of Bankruptcy                                \n",
      "\n",
      "           Party                                Attorney                        \n",
      " Plaintiff ACTIVE                                                               \n",
      "     SGD 147 Center L.L.C.                      Janice M Woolley                \n",
      "                                                11404 West Dodge Rd, Ste 500    \n",
      "                                                Omaha              NE 68154     \n",
      "                                                402-492-9200                    \n",
      " Defendant ACTIVE                                                               \n",
      "     QA3 LLC                                                                    \n",
      "     14748 West Center Road                                                     \n",
      "     Suite 300                                                                  \n",
      "     Omaha              NE                                                      \n",
      "\n"
     ]
    }
   ],
   "source": [
    "i=1\n",
    "print(df.DEFENDANT[na_address[i]])\n",
    "print(df.CASE_NAME[na_address[i]])\n",
    "print(df.CASE_SUMMARY[na_address[i]])\n",
    "print(df.PARTIES[na_address[i]])"
   ]
  },
  {
   "cell_type": "code",
   "execution_count": 153,
   "metadata": {},
   "outputs": [
    {
     "data": {
      "text/plain": [
       "CASE_ID                                                   CI 01 11-4987\n",
       "CASE_SUMMARY           In the County Court of Douglas County        ...\n",
       "PARTIES                          Party                              ...\n",
       "JUDGEMENT_INFO                                                      NaN\n",
       "ACTIONS                                                             ...\n",
       "CASE_NAME                              SGD 147 Center L.L.C. v. QA3 LLC\n",
       "PLAINTIFF                                         SGD 147 Center L.L.C.\n",
       "DEFENDANT                                                       QA3 LLC\n",
       "JUDGE                                                Jeffrey L Marcuzzo\n",
       "PLAINTIFF_ATTORNEY                                     Janice M Woolley\n",
       "DEFENDANT_ATTORNEY                                                  NaN\n",
       "NUM_DEFENDANTS                                                        1\n",
       "DEFENDANTS_ADDRESS                                                  NaN\n",
       "FILING_DATE                                                  03/01/2011\n",
       "CLOSING_DATE                                                 03/11/2011\n",
       "DECISION                                       Suggestion of Bankruptcy\n",
       "Name: 4, dtype: object"
      ]
     },
     "execution_count": 153,
     "metadata": {},
     "output_type": "execute_result"
    }
   ],
   "source": [
    "df.loc[na_address[i]]"
   ]
  },
  {
   "cell_type": "code",
   "execution_count": 154,
   "metadata": {},
   "outputs": [],
   "source": [
    "x = re.search(\"Plaintiff (.*?)[\\s]{3,}(.*?)[^\\S\\r\\n]{2,}(.*?)\\n\", df.PARTIES[na_address[i]])"
   ]
  },
  {
   "cell_type": "code",
   "execution_count": 155,
   "metadata": {},
   "outputs": [
    {
     "data": {
      "text/plain": [
       "'Janice M Woolley                '"
      ]
     },
     "execution_count": 155,
     "metadata": {},
     "output_type": "execute_result"
    }
   ],
   "source": [
    "x.group(3)"
   ]
  },
  {
   "cell_type": "code",
   "execution_count": 156,
   "metadata": {},
   "outputs": [],
   "source": [
    "x = re.search(\"Defendant (.*?)[\\s]{3,}(.*?)[^\\S\\r\\n]{2,}(.*?)\\n\", df.PARTIES[na_address[i]])"
   ]
  },
  {
   "cell_type": "code",
   "execution_count": 157,
   "metadata": {},
   "outputs": [
    {
     "name": "stdout",
     "output_type": "stream",
     "text": [
      "\n"
     ]
    }
   ],
   "source": [
    "print(x.group(3))"
   ]
  },
  {
   "cell_type": "code",
   "execution_count": 158,
   "metadata": {},
   "outputs": [],
   "source": [
    "na_def_attorney = df[(df.DEFENDANT_ATTORNEY.notna())].index"
   ]
  },
  {
   "cell_type": "code",
   "execution_count": 159,
   "metadata": {},
   "outputs": [
    {
     "name": "stdout",
     "output_type": "stream",
     "text": [
      "1313 F St. #4, 650 J St, Ste 215B, Lincoln, NE 68508\n",
      "           Party                                Attorney                        \n",
      " Plaintiff ACTIVE                                                               \n",
      "     Robin Derr                                 Jan E Beran                     \n",
      "                                                770 N Cotner Blvd.  Ste 114     \n",
      "                                                Lincoln            NE 68505     \n",
      "                                                402-466-7110                    \n",
      " Defendant ACTIVE                                                               \n",
      "     Tracy Green                                John A Lentz                    \n",
      "     1313 F St. #4                              650 J St, Ste 215B              \n",
      "     Lincoln            NE 68508                Lincoln            NE 68508     \n",
      "                                                402-421-9676                    \n",
      "\n"
     ]
    }
   ],
   "source": [
    "i=150\n",
    "#print(df.DEFENDANT[na_address[i]])\n",
    "print(df.DEFENDANTS_ADDRESS[na_def_attorney[i]])\n",
    "print(df.PARTIES[na_def_attorney[i]])"
   ]
  },
  {
   "cell_type": "code",
   "execution_count": 160,
   "metadata": {},
   "outputs": [],
   "source": [
    "defendant = df.DEFENDANT[na_def_attorney[i]]\n",
    "d_attorney = df.DEFENDANT_ATTORNEY[na_def_attorney[i]]\n",
    "matching_format = defendant + \"[^\\S\\r\\n]{2,}\" + d_attorney + \"[\\s]+(.*?)[^\\S\\r\\n]{2,}(.*?)\\n\"\n",
    "x = re.search(matching_format,df.PARTIES[na_def_attorney[i]])"
   ]
  },
  {
   "cell_type": "code",
   "execution_count": 161,
   "metadata": {},
   "outputs": [
    {
     "data": {
      "text/plain": [
       "'Tracy Green[^\\\\S\\r\\n]{2,}John A Lentz[\\\\s]+(.*?)[^\\\\S\\r\\n]{2,}(.*?)\\n'"
      ]
     },
     "execution_count": 161,
     "metadata": {},
     "output_type": "execute_result"
    }
   ],
   "source": [
    "matching_format"
   ]
  },
  {
   "cell_type": "code",
   "execution_count": 162,
   "metadata": {},
   "outputs": [
    {
     "data": {
      "text/plain": [
       "'650 J St, Ste 215B              '"
      ]
     },
     "execution_count": 162,
     "metadata": {},
     "output_type": "execute_result"
    }
   ],
   "source": [
    "x.group(2)"
   ]
  },
  {
   "cell_type": "code",
   "execution_count": 163,
   "metadata": {},
   "outputs": [],
   "source": [
    "matching_format = defendant + \"[^\\S\\r\\n]{2,}\" + d_attorney + \" [\\S\\s]* NE \\d{5}\"\n",
    "x = re.search(matching_format,df.PARTIES[na_def_attorney[i]])"
   ]
  },
  {
   "cell_type": "code",
   "execution_count": 164,
   "metadata": {},
   "outputs": [],
   "source": [
    "address = x.group(0)\n",
    "address = re.sub(defendant, \"\", address).strip()\n",
    "address = re.sub(d_attorney, \"\", address).strip()"
   ]
  },
  {
   "cell_type": "code",
   "execution_count": 166,
   "metadata": {},
   "outputs": [
    {
     "data": {
      "text/plain": [
       "['1313 F St. #4                         ',\n",
       " '     Lincoln            NE 68508      ']"
      ]
     },
     "execution_count": 166,
     "metadata": {},
     "output_type": "execute_result"
    }
   ],
   "source": [
    "list(map(get_half,address.split(\"\\n\")))"
   ]
  },
  {
   "cell_type": "code",
   "execution_count": 145,
   "metadata": {},
   "outputs": [],
   "source": [
    "def get_half(text):\n",
    "    n = len(text)\n",
    "    half = round(n/2)\n",
    "    \n",
    "    return text[:half]"
   ]
  },
  {
   "cell_type": "code",
   "execution_count": 134,
   "metadata": {},
   "outputs": [
    {
     "data": {
      "text/plain": [
       "'Tracy Green(.*?)[A-Z]{2} [0-9]{5}'"
      ]
     },
     "execution_count": 134,
     "metadata": {},
     "output_type": "execute_result"
    }
   ],
   "source": [
    "matching_format"
   ]
  },
  {
   "cell_type": "markdown",
   "metadata": {},
   "source": []
  },
  {
   "cell_type": "code",
   "execution_count": null,
   "metadata": {},
   "outputs": [],
   "source": []
  }
 ],
 "metadata": {
  "kernelspec": {
   "display_name": "base",
   "language": "python",
   "name": "python3"
  },
  "language_info": {
   "codemirror_mode": {
    "name": "ipython",
    "version": 3
   },
   "file_extension": ".py",
   "mimetype": "text/x-python",
   "name": "python",
   "nbconvert_exporter": "python",
   "pygments_lexer": "ipython3",
   "version": "3.9.13"
  },
  "orig_nbformat": 4
 },
 "nbformat": 4,
 "nbformat_minor": 2
}
