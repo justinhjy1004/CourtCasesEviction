{
 "cells": [
  {
   "cell_type": "code",
   "execution_count": 1,
   "metadata": {},
   "outputs": [],
   "source": [
    "import pandas as pd\n",
    "import cleaner\n",
    "import re"
   ]
  },
  {
   "cell_type": "code",
   "execution_count": 2,
   "metadata": {},
   "outputs": [],
   "source": [
    "df = pd.read_csv(\"clean_all_cases.csv\")"
   ]
  },
  {
   "cell_type": "code",
   "execution_count": 15,
   "metadata": {},
   "outputs": [
    {
     "data": {
      "text/html": [
       "<div>\n",
       "<style scoped>\n",
       "    .dataframe tbody tr th:only-of-type {\n",
       "        vertical-align: middle;\n",
       "    }\n",
       "\n",
       "    .dataframe tbody tr th {\n",
       "        vertical-align: top;\n",
       "    }\n",
       "\n",
       "    .dataframe thead th {\n",
       "        text-align: right;\n",
       "    }\n",
       "</style>\n",
       "<table border=\"1\" class=\"dataframe\">\n",
       "  <thead>\n",
       "    <tr style=\"text-align: right;\">\n",
       "      <th></th>\n",
       "      <th>CASE_ID</th>\n",
       "      <th>CASE_SUMMARY</th>\n",
       "      <th>PARTIES</th>\n",
       "      <th>JUDGEMENT_INFO</th>\n",
       "      <th>ACTIONS</th>\n",
       "      <th>CASE_NAME</th>\n",
       "      <th>PLAINTIFF</th>\n",
       "      <th>DEFENDANT</th>\n",
       "      <th>JUDGE</th>\n",
       "      <th>PLAINTIFF_ATTORNEY</th>\n",
       "      <th>DEFENDANT_ATTORNEY</th>\n",
       "      <th>NUM_DEFENDANTS</th>\n",
       "      <th>DEFENDANTS_ADDRESS</th>\n",
       "      <th>FILING_DATE</th>\n",
       "      <th>CLOSING_DATE</th>\n",
       "      <th>DECISION</th>\n",
       "    </tr>\n",
       "  </thead>\n",
       "  <tbody>\n",
       "    <tr>\n",
       "      <th>0</th>\n",
       "      <td>CI 01 11-4935</td>\n",
       "      <td>In the County Court of Douglas County        ...</td>\n",
       "      <td>Party                              ...</td>\n",
       "      <td>NaN</td>\n",
       "      <td>...</td>\n",
       "      <td>S&amp;M Realty, LLC v. Chad Rudiger</td>\n",
       "      <td>S&amp;M Realty, LLC</td>\n",
       "      <td>Chad Rudiger</td>\n",
       "      <td>Jeffrey L Marcuzzo</td>\n",
       "      <td>John C Chatelain</td>\n",
       "      <td>NaN</td>\n",
       "      <td>2</td>\n",
       "      <td>3131 S 134th Street, Omaha, NE 68144</td>\n",
       "      <td>03/01/2011</td>\n",
       "      <td>03/15/2011</td>\n",
       "      <td>Settled/Dismissed by Party</td>\n",
       "    </tr>\n",
       "    <tr>\n",
       "      <th>1</th>\n",
       "      <td>CI 01 11-4944</td>\n",
       "      <td>In the County Court of Douglas County        ...</td>\n",
       "      <td>Party                              ...</td>\n",
       "      <td>On 03/15/2011 judgment of Restitution of Prem...</td>\n",
       "      <td>...</td>\n",
       "      <td>Grandridge Apartments v. Karen Ackland</td>\n",
       "      <td>Grandridge Apartments</td>\n",
       "      <td>Karen Ackland</td>\n",
       "      <td>Craig Q McDermott</td>\n",
       "      <td>Ryan J Lewis</td>\n",
       "      <td>NaN</td>\n",
       "      <td>1</td>\n",
       "      <td>10021 Arcadia Plaza #9, Apt 1409, Omaha,</td>\n",
       "      <td>03/01/2011</td>\n",
       "      <td>03/15/2011</td>\n",
       "      <td>Uncontested Default</td>\n",
       "    </tr>\n",
       "    <tr>\n",
       "      <th>2</th>\n",
       "      <td>CI 01 11-4963</td>\n",
       "      <td>In the County Court of Douglas County        ...</td>\n",
       "      <td>Party                              ...</td>\n",
       "      <td>On 03/15/2011 judgment of Restitution of Prem...</td>\n",
       "      <td>...</td>\n",
       "      <td>Lowell Goranson v. Shelley J Felton</td>\n",
       "      <td>Lowell Goranson</td>\n",
       "      <td>Shelley J Felton</td>\n",
       "      <td>Jeffrey L Marcuzzo</td>\n",
       "      <td>Patrick A McCormick</td>\n",
       "      <td>NaN</td>\n",
       "      <td>1</td>\n",
       "      <td>527 S 36th Street, #5, Omaha,</td>\n",
       "      <td>03/01/2011</td>\n",
       "      <td>03/15/2011</td>\n",
       "      <td>Tried to Court</td>\n",
       "    </tr>\n",
       "    <tr>\n",
       "      <th>3</th>\n",
       "      <td>CI 01 11-4986</td>\n",
       "      <td>In the County Court of Douglas County        ...</td>\n",
       "      <td>Party                              ...</td>\n",
       "      <td>On 03/15/2011 judgment of Restitution of Prem...</td>\n",
       "      <td>...</td>\n",
       "      <td>Jill Nagel v. Ilena White</td>\n",
       "      <td>Jill Nagel</td>\n",
       "      <td>Ilena White</td>\n",
       "      <td>Craig Q McDermott</td>\n",
       "      <td>NaN</td>\n",
       "      <td>NaN</td>\n",
       "      <td>1</td>\n",
       "      <td>5134 N 37th Avenue, Omaha,</td>\n",
       "      <td>03/01/2011</td>\n",
       "      <td>03/15/2011</td>\n",
       "      <td>Uncontested Default</td>\n",
       "    </tr>\n",
       "    <tr>\n",
       "      <th>4</th>\n",
       "      <td>CI 01 11-4987</td>\n",
       "      <td>In the County Court of Douglas County        ...</td>\n",
       "      <td>Party                              ...</td>\n",
       "      <td>NaN</td>\n",
       "      <td>...</td>\n",
       "      <td>SGD 147 Center L.L.C. v. QA3 LLC</td>\n",
       "      <td>SGD 147 Center L.L.C.</td>\n",
       "      <td>QA3 LLC</td>\n",
       "      <td>Jeffrey L Marcuzzo</td>\n",
       "      <td>Janice M Woolley</td>\n",
       "      <td>NaN</td>\n",
       "      <td>1</td>\n",
       "      <td>14748 West Center Road, Suite 300, Omaha,</td>\n",
       "      <td>03/01/2011</td>\n",
       "      <td>03/11/2011</td>\n",
       "      <td>Suggestion of Bankruptcy</td>\n",
       "    </tr>\n",
       "  </tbody>\n",
       "</table>\n",
       "</div>"
      ],
      "text/plain": [
       "         CASE_ID                                       CASE_SUMMARY  \\\n",
       "0  CI 01 11-4935   In the County Court of Douglas County        ...   \n",
       "1  CI 01 11-4944   In the County Court of Douglas County        ...   \n",
       "2  CI 01 11-4963   In the County Court of Douglas County        ...   \n",
       "3  CI 01 11-4986   In the County Court of Douglas County        ...   \n",
       "4  CI 01 11-4987   In the County Court of Douglas County        ...   \n",
       "\n",
       "                                             PARTIES  \\\n",
       "0             Party                              ...   \n",
       "1             Party                              ...   \n",
       "2             Party                              ...   \n",
       "3             Party                              ...   \n",
       "4             Party                              ...   \n",
       "\n",
       "                                      JUDGEMENT_INFO  \\\n",
       "0                                                NaN   \n",
       "1   On 03/15/2011 judgment of Restitution of Prem...   \n",
       "2   On 03/15/2011 judgment of Restitution of Prem...   \n",
       "3   On 03/15/2011 judgment of Restitution of Prem...   \n",
       "4                                                NaN   \n",
       "\n",
       "                                             ACTIONS  \\\n",
       "0                                                ...   \n",
       "1                                                ...   \n",
       "2                                                ...   \n",
       "3                                                ...   \n",
       "4                                                ...   \n",
       "\n",
       "                                CASE_NAME              PLAINTIFF  \\\n",
       "0         S&M Realty, LLC v. Chad Rudiger        S&M Realty, LLC   \n",
       "1  Grandridge Apartments v. Karen Ackland  Grandridge Apartments   \n",
       "2     Lowell Goranson v. Shelley J Felton        Lowell Goranson   \n",
       "3               Jill Nagel v. Ilena White             Jill Nagel   \n",
       "4        SGD 147 Center L.L.C. v. QA3 LLC  SGD 147 Center L.L.C.   \n",
       "\n",
       "          DEFENDANT               JUDGE   PLAINTIFF_ATTORNEY  \\\n",
       "0      Chad Rudiger  Jeffrey L Marcuzzo     John C Chatelain   \n",
       "1     Karen Ackland   Craig Q McDermott         Ryan J Lewis   \n",
       "2  Shelley J Felton  Jeffrey L Marcuzzo  Patrick A McCormick   \n",
       "3       Ilena White   Craig Q McDermott                  NaN   \n",
       "4           QA3 LLC  Jeffrey L Marcuzzo     Janice M Woolley   \n",
       "\n",
       "  DEFENDANT_ATTORNEY NUM_DEFENDANTS  \\\n",
       "0                NaN              2   \n",
       "1                NaN              1   \n",
       "2                NaN              1   \n",
       "3                NaN              1   \n",
       "4                NaN              1   \n",
       "\n",
       "                           DEFENDANTS_ADDRESS FILING_DATE CLOSING_DATE  \\\n",
       "0        3131 S 134th Street, Omaha, NE 68144  03/01/2011   03/15/2011   \n",
       "1   10021 Arcadia Plaza #9, Apt 1409, Omaha,   03/01/2011   03/15/2011   \n",
       "2              527 S 36th Street, #5, Omaha,   03/01/2011   03/15/2011   \n",
       "3                 5134 N 37th Avenue, Omaha,   03/01/2011   03/15/2011   \n",
       "4  14748 West Center Road, Suite 300, Omaha,   03/01/2011   03/11/2011   \n",
       "\n",
       "                     DECISION  \n",
       "0  Settled/Dismissed by Party  \n",
       "1         Uncontested Default  \n",
       "2              Tried to Court  \n",
       "3         Uncontested Default  \n",
       "4    Suggestion of Bankruptcy  "
      ]
     },
     "execution_count": 15,
     "metadata": {},
     "output_type": "execute_result"
    }
   ],
   "source": [
    "df.head(5)"
   ]
  },
  {
   "cell_type": "code",
   "execution_count": 16,
   "metadata": {},
   "outputs": [],
   "source": [
    "na_address = df[df.DEFENDANTS_ADDRESS.isna()].index"
   ]
  },
  {
   "cell_type": "code",
   "execution_count": 17,
   "metadata": {},
   "outputs": [
    {
     "data": {
      "text/plain": [
       "Int64Index([   87,   676,   836,  1145,  1149,  1823,  3055,  3861,  4281,\n",
       "             4283,\n",
       "            ...\n",
       "            56421, 56493, 59665, 59928, 60195, 60196, 60266, 60537, 60647,\n",
       "            60686],\n",
       "           dtype='int64', length=198)"
      ]
     },
     "execution_count": 17,
     "metadata": {},
     "output_type": "execute_result"
    }
   ],
   "source": [
    "na_address"
   ]
  },
  {
   "cell_type": "code",
   "execution_count": 21,
   "metadata": {},
   "outputs": [
    {
     "name": "stdout",
     "output_type": "stream",
     "text": [
      "MP/CC, PC\n",
      "nan\n",
      "           Party                                Attorney                        \n",
      " Plaintiff ACTIVE                                                               \n",
      "     MidAmerica Cardiovascular Institute        Christian R Blunk               \n",
      "     8552 Cass St                               1005 S. 107th Ave Suite 100     \n",
      "     Omaha              NE 68114                Omaha              NE 68114     \n",
      "                                                402-397-1200                    \n",
      " Defendant ACTIVE                                                               \n",
      "     MP/CC, PC                                                                  \n",
      " Alias is Midwest Pulminary Critical Care                                       \n",
      "\n"
     ]
    }
   ],
   "source": [
    "i=5\n",
    "print(df.DEFENDANT[na_address[i]])\n",
    "print(df.DEFENDANTS_ADDRESS[na_address[i]])\n",
    "print(df.PARTIES[na_address[i]])"
   ]
  },
  {
   "cell_type": "code",
   "execution_count": 18,
   "metadata": {},
   "outputs": [
    {
     "data": {
      "text/plain": [
       "CASE_ID                                                   CI 01 11-5408\n",
       "CASE_SUMMARY           In the County Court of Douglas County        ...\n",
       "PARTIES                          Party                              ...\n",
       "JUDGEMENT_INFO         On 03/16/2011 judgment of Restitution of Prem...\n",
       "ACTIONS                                                             ...\n",
       "CASE_NAME                           JNJ Property Management LLC v. Dean\n",
       "PLAINTIFF                                   JNJ Property Management LLC\n",
       "DEFENDANT                                                    April Dean\n",
       "JUDGE                                                Jeffrey L Marcuzzo\n",
       "PLAINTIFF_ATTORNEY                                    Deanna J Chandler\n",
       "DEFENDANT_ATTORNEY                                                  NaN\n",
       "NUM_DEFENDANTS                                                        1\n",
       "DEFENDANTS_ADDRESS                                                  NaN\n",
       "FILING_DATE                                                  03/02/2011\n",
       "CLOSING_DATE                                                 03/16/2011\n",
       "DECISION                                            Uncontested Default\n",
       "Name: 44, dtype: object"
      ]
     },
     "execution_count": 18,
     "metadata": {},
     "output_type": "execute_result"
    }
   ],
   "source": [
    "df.loc[na_address[i]]"
   ]
  },
  {
   "cell_type": "code",
   "execution_count": 19,
   "metadata": {},
   "outputs": [],
   "source": [
    "x = re.search(\"Plaintiff (.*?)[\\s]{3,}(.*?)[^\\S\\r\\n]{2,}(.*?)\\n\", df.PARTIES[na_address[i]])"
   ]
  },
  {
   "cell_type": "code",
   "execution_count": 20,
   "metadata": {},
   "outputs": [
    {
     "data": {
      "text/plain": [
       "'Deanna J Chandler               '"
      ]
     },
     "execution_count": 20,
     "metadata": {},
     "output_type": "execute_result"
    }
   ],
   "source": [
    "x.group(3)"
   ]
  },
  {
   "cell_type": "code",
   "execution_count": 21,
   "metadata": {},
   "outputs": [],
   "source": [
    "x = re.search(\"Defendant (.*?)[\\s]{3,}(.*?)[^\\S\\r\\n]{2,}(.*?)\\n\", df.PARTIES[na_address[i]])"
   ]
  },
  {
   "cell_type": "code",
   "execution_count": 22,
   "metadata": {},
   "outputs": [
    {
     "name": "stdout",
     "output_type": "stream",
     "text": [
      "\n"
     ]
    }
   ],
   "source": [
    "print(x.group(3))"
   ]
  },
  {
   "cell_type": "code",
   "execution_count": 23,
   "metadata": {},
   "outputs": [],
   "source": [
    "na_def_attorney = df[(df.DEFENDANT_ATTORNEY.notna())].index"
   ]
  },
  {
   "cell_type": "code",
   "execution_count": 208,
   "metadata": {},
   "outputs": [
    {
     "name": "stdout",
     "output_type": "stream",
     "text": [
      "1313 F St. #4, Lincoln, NE 68508, \n",
      "           Party                                Attorney                        \n",
      " Plaintiff ACTIVE                                                               \n",
      "     Robin Derr                                 Jan E Beran                     \n",
      "                                                770 N Cotner Blvd.  Ste 114     \n",
      "                                                Lincoln            NE 68505     \n",
      "                                                402-466-7110                    \n",
      " Defendant ACTIVE                                                               \n",
      "     Tracy Green                                John A Lentz                    \n",
      "     1313 F St. #4                              650 J St, Ste 215B              \n",
      "     Lincoln            NE 68508                Lincoln            NE 68508     \n",
      "                                                402-421-9676                    \n",
      "\n"
     ]
    }
   ],
   "source": [
    "i=150\n",
    "#print(df.DEFENDANT[na_address[i]])\n",
    "print(df.DEFENDANTS_ADDRESS[na_def_attorney[i]])\n",
    "print(df.PARTIES[na_def_attorney[i]])"
   ]
  },
  {
   "cell_type": "code",
   "execution_count": 155,
   "metadata": {},
   "outputs": [],
   "source": [
    "defendant = df.DEFENDANT[na_def_attorney[i]]\n",
    "d_attorney = df.DEFENDANT_ATTORNEY[na_def_attorney[i]]\n",
    "matching_format = defendant + \"[^\\S\\r\\n]{2,}\" + d_attorney + \"[\\s]+(.*?)[^\\S\\r\\n]{2,}(.*?)\\n\"\n",
    "x = re.search(matching_format,df.PARTIES[na_def_attorney[i]])"
   ]
  },
  {
   "cell_type": "code",
   "execution_count": 26,
   "metadata": {},
   "outputs": [
    {
     "data": {
      "text/plain": [
       "'Tracy Green[^\\\\S\\r\\n]{2,}John A Lentz[\\\\s]+(.*?)[^\\\\S\\r\\n]{2,}(.*?)\\n'"
      ]
     },
     "execution_count": 26,
     "metadata": {},
     "output_type": "execute_result"
    }
   ],
   "source": [
    "matching_format"
   ]
  },
  {
   "cell_type": "code",
   "execution_count": 27,
   "metadata": {},
   "outputs": [
    {
     "data": {
      "text/plain": [
       "'650 J St, Ste 215B              '"
      ]
     },
     "execution_count": 27,
     "metadata": {},
     "output_type": "execute_result"
    }
   ],
   "source": [
    "x.group(2)"
   ]
  },
  {
   "cell_type": "code",
   "execution_count": 156,
   "metadata": {},
   "outputs": [],
   "source": [
    "matching_format = defendant + \"[^\\S\\r\\n]{2,}\" + d_attorney + \" [\\S\\s]* NE \\d{5}\"\n",
    "x = re.search(matching_format,df.PARTIES[na_def_attorney[i]])"
   ]
  },
  {
   "cell_type": "code",
   "execution_count": 157,
   "metadata": {},
   "outputs": [],
   "source": [
    "address = x.group(0)\n",
    "address = re.sub(defendant, \"\", address).strip()\n",
    "address = re.sub(d_attorney, \"\", address).strip()"
   ]
  },
  {
   "cell_type": "code",
   "execution_count": 159,
   "metadata": {},
   "outputs": [
    {
     "data": {
      "text/plain": [
       "'2809 Hamilton St                           Omaha              NE 68131          owes  $84.00                     Defendant ACTIVE                            Jerome Gilmore                          2809  Hamilton St                       Omaha      '"
      ]
     },
     "execution_count": 159,
     "metadata": {},
     "output_type": "execute_result"
    }
   ],
   "source": [
    "\"\".join(list(map(get_half,address.split(\"\\n\"))))"
   ]
  },
  {
   "cell_type": "code",
   "execution_count": 3,
   "metadata": {},
   "outputs": [],
   "source": [
    "def get_half(text):\n",
    "    n = len(text)\n",
    "    half = round(n/2)\n",
    "    \n",
    "    return text[:half]\n",
    "\n",
    "def get_address(defendant, defendant_attorney, parties):\n",
    "\n",
    "    has_attorney = True\n",
    "\n",
    "    if type(defendant) != str:\n",
    "        return None\n",
    "    \n",
    "    if type(defendant_attorney) != str:\n",
    "        defendant_attorney = \"\"\n",
    "        has_attorney = False\n",
    "\n",
    "    if type(parties) != str:\n",
    "        return None\n",
    "    \n",
    "    defendant = re.sub(\"\\(\", \"\\(\", defendant)\n",
    "    defendant = re.sub(\"\\)\", \"\\)\", defendant)\n",
    "    matching_format = defendant + r\"[^\\S\\r\\n]{2,}\" + defendant_attorney + r\"[\\S\\s]* NE \\d{5}\"\n",
    "    \n",
    "    x = re.search(matching_format, parties)\n",
    "\n",
    "    if x is None:\n",
    "        matching_format = defendant + \"[^\\S\\r\\n]{1,}\" + defendant_attorney + \"[\\S\\s]* NE\"\n",
    "        x = re.search(matching_format, parties)\n",
    "        if x is None:\n",
    "            matching_format = defendant + \"(.*?) NE \\d{5}\"\n",
    "            x = re.search(matching_format, parties)\n",
    "            if x is None:\n",
    "                matching_format = defendant + \"(.*?) NE\"\n",
    "                x = re.search(matching_format, parties)\n",
    "                if x is None:\n",
    "                    return None\n",
    "\n",
    "    address = x.group(0)\n",
    "    address = re.sub(defendant, \"\", address).strip()\n",
    "    address = re.sub(defendant_attorney, \"\", address).strip()\n",
    "\n",
    "    if has_attorney:\n",
    "        address = \"\".join(list(map(get_half,address.split(\"\\n\"))))\n",
    "\n",
    "    address = re.sub(\"[\\\\s]{3,}\", \", \", address)\n",
    " \n",
    "    address = address.split(\", Defendant ACTIVE, \")[0]\n",
    "    address = address.split(\", owes\")[0]\n",
    "    address = address.split(\", Limited Representation Attorney\")[0]\n",
    "    \n",
    "    return address  \n",
    "    \n"
   ]
  },
  {
   "cell_type": "code",
   "execution_count": 240,
   "metadata": {},
   "outputs": [],
   "source": [
    "df.DEFENDANTS_ADDRESS = df.apply(lambda x: get_address(x.DEFENDANT, x.DEFENDANT_ATTORNEY, x.PARTIES), axis=1)"
   ]
  },
  {
   "cell_type": "code",
   "execution_count": null,
   "metadata": {},
   "outputs": [],
   "source": []
  },
  {
   "cell_type": "code",
   "execution_count": 9,
   "metadata": {},
   "outputs": [
    {
     "name": "stdout",
     "output_type": "stream",
     "text": [
      "Ilena White\n",
      "5134 N 37th Avenue, Omaha, \n",
      "           Party                                Attorney                        \n",
      " Plaintiff ACTIVE                                                               \n",
      "     Jill Nagel                                                                 \n",
      "     PO BOX 1161                                                                \n",
      "     Bellevue           NE 68005                                                \n",
      " Defendant ACTIVE                                                               \n",
      "     Ilena White                                                                \n",
      "     5134 N 37th Avenue                                                         \n",
      "     Omaha              NE                                                      \n",
      " Ilena White owes  $5.00                                                        \n",
      "\n"
     ]
    }
   ],
   "source": [
    "i=3\n",
    "print(df.DEFENDANT[i])\n",
    "print(df.DEFENDANTS_ADDRESS[i])\n",
    "print(df.PARTIES[i])"
   ]
  },
  {
   "cell_type": "code",
   "execution_count": 10,
   "metadata": {},
   "outputs": [
    {
     "data": {
      "text/plain": [
       "'5134 N 37th Avenue, Omaha, NE'"
      ]
     },
     "execution_count": 10,
     "metadata": {},
     "output_type": "execute_result"
    }
   ],
   "source": [
    "get_address(df.DEFENDANT[i], df.DEFENDANT_ATTORNEY[i], df.PARTIES[i])"
   ]
  },
  {
   "cell_type": "code",
   "execution_count": 239,
   "metadata": {},
   "outputs": [
    {
     "data": {
      "text/plain": [
       "'7156 North 111th Plaza, Lot #337, Omaha, NE 68142'"
      ]
     },
     "execution_count": 239,
     "metadata": {},
     "output_type": "execute_result"
    }
   ],
   "source": [
    "get_address(df.DEFENDANT[na_address[i]], df.DEFENDANT_ATTORNEY[na_address[i]], df.PARTIES[na_address[i]])"
   ]
  },
  {
   "cell_type": "code",
   "execution_count": 202,
   "metadata": {},
   "outputs": [
    {
     "data": {
      "text/plain": [
       "0                     3131 S 134th Street, Omaha, NE 68144\n",
       "1        10021 Arcadia Plaza #9, Apt 1409, Omaha, NE 68134\n",
       "2                   527 S 36th Street, #5, Omaha, NE 68105\n",
       "3                            5134 N 37th Avenue, Omaha, NE\n",
       "4             14748 West Center Road, Suite 300, Omaha, NE\n",
       "                               ...                        \n",
       "60900                  6224 Walker Ave., Lincoln, NE 68507\n",
       "60901     8360 Renatta Drive, Apt. 3302, Lincoln, NE 68516\n",
       "60902                 7808 Torino Court, Lincoln, NE 68516\n",
       "60903                2007 Q St, Apt 204, Lincoln, NE 68503\n",
       "60904         811 N Street, Apt. #408-A, Lincoln, NE 68508\n",
       "Length: 60905, dtype: object"
      ]
     },
     "execution_count": 202,
     "metadata": {},
     "output_type": "execute_result"
    }
   ],
   "source": [
    "df.apply(lambda x: get_address(x.DEFENDANT, x.DEFENDANT_ATTORNEY, x.PARTIES), axis=1)"
   ]
  },
  {
   "cell_type": "code",
   "execution_count": 162,
   "metadata": {},
   "outputs": [
    {
     "ename": "IndexError",
     "evalue": "index 60904 is out of bounds for axis 0 with size 1759",
     "output_type": "error",
     "traceback": [
      "\u001b[0;31m---------------------------------------------------------------------------\u001b[0m",
      "\u001b[0;31mIndexError\u001b[0m                                Traceback (most recent call last)",
      "\u001b[0;32m/tmp/ipykernel_32679/879989766.py\u001b[0m in \u001b[0;36m<module>\u001b[0;34m\u001b[0m\n\u001b[1;32m      1\u001b[0m \u001b[0mi\u001b[0m \u001b[0;34m=\u001b[0m \u001b[0;36m60904\u001b[0m\u001b[0;34m\u001b[0m\u001b[0;34m\u001b[0m\u001b[0m\n\u001b[0;32m----> 2\u001b[0;31m \u001b[0mget_address\u001b[0m\u001b[0;34m(\u001b[0m\u001b[0mdf\u001b[0m\u001b[0;34m.\u001b[0m\u001b[0mDEFENDANT\u001b[0m\u001b[0;34m[\u001b[0m\u001b[0mna_def_attorney\u001b[0m\u001b[0;34m[\u001b[0m\u001b[0mi\u001b[0m\u001b[0;34m]\u001b[0m\u001b[0;34m]\u001b[0m\u001b[0;34m,\u001b[0m\u001b[0mdf\u001b[0m\u001b[0;34m.\u001b[0m\u001b[0mDEFENDANT_ATTORNEY\u001b[0m\u001b[0;34m[\u001b[0m\u001b[0mna_def_attorney\u001b[0m\u001b[0;34m[\u001b[0m\u001b[0mi\u001b[0m\u001b[0;34m]\u001b[0m\u001b[0;34m]\u001b[0m\u001b[0;34m,\u001b[0m\u001b[0mdf\u001b[0m\u001b[0;34m.\u001b[0m\u001b[0mPARTIES\u001b[0m\u001b[0;34m[\u001b[0m\u001b[0mna_def_attorney\u001b[0m\u001b[0;34m[\u001b[0m\u001b[0mi\u001b[0m\u001b[0;34m]\u001b[0m\u001b[0;34m]\u001b[0m\u001b[0;34m)\u001b[0m\u001b[0;34m\u001b[0m\u001b[0;34m\u001b[0m\u001b[0m\n\u001b[0m",
      "\u001b[0;32m~/anaconda3/lib/python3.9/site-packages/pandas/core/indexes/base.py\u001b[0m in \u001b[0;36m__getitem__\u001b[0;34m(self, key)\u001b[0m\n\u001b[1;32m   5051\u001b[0m             \u001b[0;31m# GH#44051 exclude bool, which would return a 2d ndarray\u001b[0m\u001b[0;34m\u001b[0m\u001b[0;34m\u001b[0m\u001b[0m\n\u001b[1;32m   5052\u001b[0m             \u001b[0mkey\u001b[0m \u001b[0;34m=\u001b[0m \u001b[0mcom\u001b[0m\u001b[0;34m.\u001b[0m\u001b[0mcast_scalar_indexer\u001b[0m\u001b[0;34m(\u001b[0m\u001b[0mkey\u001b[0m\u001b[0;34m,\u001b[0m \u001b[0mwarn_float\u001b[0m\u001b[0;34m=\u001b[0m\u001b[0;32mTrue\u001b[0m\u001b[0;34m)\u001b[0m\u001b[0;34m\u001b[0m\u001b[0;34m\u001b[0m\u001b[0m\n\u001b[0;32m-> 5053\u001b[0;31m             \u001b[0;32mreturn\u001b[0m \u001b[0mgetitem\u001b[0m\u001b[0;34m(\u001b[0m\u001b[0mkey\u001b[0m\u001b[0;34m)\u001b[0m\u001b[0;34m\u001b[0m\u001b[0;34m\u001b[0m\u001b[0m\n\u001b[0m\u001b[1;32m   5054\u001b[0m \u001b[0;34m\u001b[0m\u001b[0m\n\u001b[1;32m   5055\u001b[0m         \u001b[0;32mif\u001b[0m \u001b[0misinstance\u001b[0m\u001b[0;34m(\u001b[0m\u001b[0mkey\u001b[0m\u001b[0;34m,\u001b[0m \u001b[0mslice\u001b[0m\u001b[0;34m)\u001b[0m\u001b[0;34m:\u001b[0m\u001b[0;34m\u001b[0m\u001b[0;34m\u001b[0m\u001b[0m\n",
      "\u001b[0;31mIndexError\u001b[0m: index 60904 is out of bounds for axis 0 with size 1759"
     ]
    }
   ],
   "source": [
    "i = 60904\n",
    "get_address(df.DEFENDANT[na_def_attorney[i]],df.DEFENDANT_ATTORNEY[na_def_attorney[i]],df.PARTIES[na_def_attorney[i]])"
   ]
  },
  {
   "cell_type": "code",
   "execution_count": 200,
   "metadata": {},
   "outputs": [
    {
     "name": "stdout",
     "output_type": "stream",
     "text": [
      "2007 Q St                                                                  \n",
      "     Apt 204                                                                    \n",
      "     Lincoln            NE 68503\n",
      "2007 Q St                                                                  \n",
      "     Apt 204                                                                    \n",
      "     Lincoln            NE 68503\n"
     ]
    },
    {
     "data": {
      "text/plain": [
       "'2007 Q St, Apt 204, Lincoln, NE 68503'"
      ]
     },
     "execution_count": 200,
     "metadata": {},
     "output_type": "execute_result"
    }
   ],
   "source": [
    "j = 60903\n",
    "get_address(df.DEFENDANT[j],df.DEFENDANT_ATTORNEY[j],df.PARTIES[j])"
   ]
  },
  {
   "cell_type": "code",
   "execution_count": 184,
   "metadata": {},
   "outputs": [
    {
     "data": {
      "text/plain": [
       "'stringstring'"
      ]
     },
     "execution_count": 184,
     "metadata": {},
     "output_type": "execute_result"
    }
   ],
   "source": [
    "x = \"string\" + \"string\" + \"\"\n",
    "x"
   ]
  },
  {
   "cell_type": "code",
   "execution_count": 171,
   "metadata": {},
   "outputs": [
    {
     "name": "stdout",
     "output_type": "stream",
     "text": [
      "nan\n",
      "           Party                                Attorney                        \n",
      " Plaintiff ACTIVE                                                               \n",
      "     Rajinder Kumar                             James H Hoppe                   \n",
      "     728 S 27th St                              140 N 8th St, Ste 250           \n",
      "     Lincoln            NE 68510                Lincoln            NE 68508     \n",
      "                                                402-474-3884                    \n",
      " Alias is Kumar Properties                                                      \n",
      " Defendant ACTIVE                                                               \n",
      "     Kenvon Erving                                                              \n",
      "     2007 Q St                                                                  \n",
      "     Apt 204                                                                    \n",
      "     Lincoln            NE 68503                                                \n",
      "\n"
     ]
    }
   ],
   "source": [
    "print(df.DEFENDANT_ATTORNEY[j])\n",
    "print(df.PARTIES[j])"
   ]
  },
  {
   "cell_type": "code",
   "execution_count": 143,
   "metadata": {},
   "outputs": [
    {
     "ename": "error",
     "evalue": "missing ), unterminated subpattern at position 4",
     "output_type": "error",
     "traceback": [
      "\u001b[0;31m---------------------------------------------------------------------------\u001b[0m",
      "\u001b[0;31merror\u001b[0m                                     Traceback (most recent call last)",
      "\u001b[0;32m/tmp/ipykernel_32679/4294862504.py\u001b[0m in \u001b[0;36m<module>\u001b[0;34m\u001b[0m\n\u001b[1;32m      1\u001b[0m \u001b[0maddress\u001b[0m \u001b[0;34m=\u001b[0m \u001b[0;34m[\u001b[0m\u001b[0;34m]\u001b[0m\u001b[0;34m\u001b[0m\u001b[0;34m\u001b[0m\u001b[0m\n\u001b[1;32m      2\u001b[0m \u001b[0;32mfor\u001b[0m \u001b[0mi\u001b[0m \u001b[0;32min\u001b[0m \u001b[0mrange\u001b[0m\u001b[0;34m(\u001b[0m\u001b[0;36m0\u001b[0m\u001b[0;34m,\u001b[0m \u001b[0mlen\u001b[0m\u001b[0;34m(\u001b[0m\u001b[0mdf\u001b[0m\u001b[0;34m.\u001b[0m\u001b[0mindex\u001b[0m\u001b[0;34m)\u001b[0m\u001b[0;34m)\u001b[0m\u001b[0;34m:\u001b[0m\u001b[0;34m\u001b[0m\u001b[0;34m\u001b[0m\u001b[0m\n\u001b[0;32m----> 3\u001b[0;31m     \u001b[0maddress\u001b[0m\u001b[0;34m.\u001b[0m\u001b[0mappend\u001b[0m\u001b[0;34m(\u001b[0m\u001b[0mget_address\u001b[0m\u001b[0;34m(\u001b[0m\u001b[0mdf\u001b[0m\u001b[0;34m.\u001b[0m\u001b[0mDEFENDANT\u001b[0m\u001b[0;34m[\u001b[0m\u001b[0mi\u001b[0m\u001b[0;34m]\u001b[0m\u001b[0;34m,\u001b[0m\u001b[0mdf\u001b[0m\u001b[0;34m.\u001b[0m\u001b[0mDEFENDANT_ATTORNEY\u001b[0m\u001b[0;34m[\u001b[0m\u001b[0mi\u001b[0m\u001b[0;34m]\u001b[0m\u001b[0;34m,\u001b[0m\u001b[0mdf\u001b[0m\u001b[0;34m.\u001b[0m\u001b[0mPARTIES\u001b[0m\u001b[0;34m[\u001b[0m\u001b[0mi\u001b[0m\u001b[0;34m]\u001b[0m\u001b[0;34m)\u001b[0m\u001b[0;34m)\u001b[0m\u001b[0;34m\u001b[0m\u001b[0;34m\u001b[0m\u001b[0m\n\u001b[0m",
      "\u001b[0;32m/tmp/ipykernel_32679/3795971981.py\u001b[0m in \u001b[0;36mget_address\u001b[0;34m(defendant, defendant_attorney, parties)\u001b[0m\n\u001b[1;32m     16\u001b[0m     \u001b[0mmatching_format\u001b[0m \u001b[0;34m=\u001b[0m \u001b[0mdefendant\u001b[0m \u001b[0;34m+\u001b[0m \u001b[0;34mr\"[^\\S\\r\\n]{2,}\"\u001b[0m \u001b[0;34m+\u001b[0m \u001b[0mdefendant_attorney\u001b[0m \u001b[0;34m+\u001b[0m \u001b[0;34mr\"[\\S\\s]* NE \\d{5}\"\u001b[0m\u001b[0;34m\u001b[0m\u001b[0;34m\u001b[0m\u001b[0m\n\u001b[1;32m     17\u001b[0m \u001b[0;34m\u001b[0m\u001b[0m\n\u001b[0;32m---> 18\u001b[0;31m     \u001b[0mx\u001b[0m \u001b[0;34m=\u001b[0m \u001b[0mre\u001b[0m\u001b[0;34m.\u001b[0m\u001b[0msearch\u001b[0m\u001b[0;34m(\u001b[0m\u001b[0mmatching_format\u001b[0m\u001b[0;34m,\u001b[0m \u001b[0mparties\u001b[0m\u001b[0;34m)\u001b[0m\u001b[0;34m\u001b[0m\u001b[0;34m\u001b[0m\u001b[0m\n\u001b[0m\u001b[1;32m     19\u001b[0m \u001b[0;34m\u001b[0m\u001b[0m\n\u001b[1;32m     20\u001b[0m     \u001b[0;32mif\u001b[0m \u001b[0mx\u001b[0m \u001b[0;32mis\u001b[0m \u001b[0;32mNone\u001b[0m\u001b[0;34m:\u001b[0m\u001b[0;34m\u001b[0m\u001b[0;34m\u001b[0m\u001b[0m\n",
      "\u001b[0;32m~/anaconda3/lib/python3.9/re.py\u001b[0m in \u001b[0;36msearch\u001b[0;34m(pattern, string, flags)\u001b[0m\n\u001b[1;32m    199\u001b[0m     \"\"\"Scan through string looking for a match to the pattern, returning\n\u001b[1;32m    200\u001b[0m     a Match object, or None if no match was found.\"\"\"\n\u001b[0;32m--> 201\u001b[0;31m     \u001b[0;32mreturn\u001b[0m \u001b[0m_compile\u001b[0m\u001b[0;34m(\u001b[0m\u001b[0mpattern\u001b[0m\u001b[0;34m,\u001b[0m \u001b[0mflags\u001b[0m\u001b[0;34m)\u001b[0m\u001b[0;34m.\u001b[0m\u001b[0msearch\u001b[0m\u001b[0;34m(\u001b[0m\u001b[0mstring\u001b[0m\u001b[0;34m)\u001b[0m\u001b[0;34m\u001b[0m\u001b[0;34m\u001b[0m\u001b[0m\n\u001b[0m\u001b[1;32m    202\u001b[0m \u001b[0;34m\u001b[0m\u001b[0m\n\u001b[1;32m    203\u001b[0m \u001b[0;32mdef\u001b[0m \u001b[0msub\u001b[0m\u001b[0;34m(\u001b[0m\u001b[0mpattern\u001b[0m\u001b[0;34m,\u001b[0m \u001b[0mrepl\u001b[0m\u001b[0;34m,\u001b[0m \u001b[0mstring\u001b[0m\u001b[0;34m,\u001b[0m \u001b[0mcount\u001b[0m\u001b[0;34m=\u001b[0m\u001b[0;36m0\u001b[0m\u001b[0;34m,\u001b[0m \u001b[0mflags\u001b[0m\u001b[0;34m=\u001b[0m\u001b[0;36m0\u001b[0m\u001b[0;34m)\u001b[0m\u001b[0;34m:\u001b[0m\u001b[0;34m\u001b[0m\u001b[0;34m\u001b[0m\u001b[0m\n",
      "\u001b[0;32m~/anaconda3/lib/python3.9/re.py\u001b[0m in \u001b[0;36m_compile\u001b[0;34m(pattern, flags)\u001b[0m\n\u001b[1;32m    302\u001b[0m     \u001b[0;32mif\u001b[0m \u001b[0;32mnot\u001b[0m \u001b[0msre_compile\u001b[0m\u001b[0;34m.\u001b[0m\u001b[0misstring\u001b[0m\u001b[0;34m(\u001b[0m\u001b[0mpattern\u001b[0m\u001b[0;34m)\u001b[0m\u001b[0;34m:\u001b[0m\u001b[0;34m\u001b[0m\u001b[0;34m\u001b[0m\u001b[0m\n\u001b[1;32m    303\u001b[0m         \u001b[0;32mraise\u001b[0m \u001b[0mTypeError\u001b[0m\u001b[0;34m(\u001b[0m\u001b[0;34m\"first argument must be string or compiled pattern\"\u001b[0m\u001b[0;34m)\u001b[0m\u001b[0;34m\u001b[0m\u001b[0;34m\u001b[0m\u001b[0m\n\u001b[0;32m--> 304\u001b[0;31m     \u001b[0mp\u001b[0m \u001b[0;34m=\u001b[0m \u001b[0msre_compile\u001b[0m\u001b[0;34m.\u001b[0m\u001b[0mcompile\u001b[0m\u001b[0;34m(\u001b[0m\u001b[0mpattern\u001b[0m\u001b[0;34m,\u001b[0m \u001b[0mflags\u001b[0m\u001b[0;34m)\u001b[0m\u001b[0;34m\u001b[0m\u001b[0;34m\u001b[0m\u001b[0m\n\u001b[0m\u001b[1;32m    305\u001b[0m     \u001b[0;32mif\u001b[0m \u001b[0;32mnot\u001b[0m \u001b[0;34m(\u001b[0m\u001b[0mflags\u001b[0m \u001b[0;34m&\u001b[0m \u001b[0mDEBUG\u001b[0m\u001b[0;34m)\u001b[0m\u001b[0;34m:\u001b[0m\u001b[0;34m\u001b[0m\u001b[0;34m\u001b[0m\u001b[0m\n\u001b[1;32m    306\u001b[0m         \u001b[0;32mif\u001b[0m \u001b[0mlen\u001b[0m\u001b[0;34m(\u001b[0m\u001b[0m_cache\u001b[0m\u001b[0;34m)\u001b[0m \u001b[0;34m>=\u001b[0m \u001b[0m_MAXCACHE\u001b[0m\u001b[0;34m:\u001b[0m\u001b[0;34m\u001b[0m\u001b[0;34m\u001b[0m\u001b[0m\n",
      "\u001b[0;32m~/anaconda3/lib/python3.9/sre_compile.py\u001b[0m in \u001b[0;36mcompile\u001b[0;34m(p, flags)\u001b[0m\n\u001b[1;32m    786\u001b[0m     \u001b[0;32mif\u001b[0m \u001b[0misstring\u001b[0m\u001b[0;34m(\u001b[0m\u001b[0mp\u001b[0m\u001b[0;34m)\u001b[0m\u001b[0;34m:\u001b[0m\u001b[0;34m\u001b[0m\u001b[0;34m\u001b[0m\u001b[0m\n\u001b[1;32m    787\u001b[0m         \u001b[0mpattern\u001b[0m \u001b[0;34m=\u001b[0m \u001b[0mp\u001b[0m\u001b[0;34m\u001b[0m\u001b[0;34m\u001b[0m\u001b[0m\n\u001b[0;32m--> 788\u001b[0;31m         \u001b[0mp\u001b[0m \u001b[0;34m=\u001b[0m \u001b[0msre_parse\u001b[0m\u001b[0;34m.\u001b[0m\u001b[0mparse\u001b[0m\u001b[0;34m(\u001b[0m\u001b[0mp\u001b[0m\u001b[0;34m,\u001b[0m \u001b[0mflags\u001b[0m\u001b[0;34m)\u001b[0m\u001b[0;34m\u001b[0m\u001b[0;34m\u001b[0m\u001b[0m\n\u001b[0m\u001b[1;32m    789\u001b[0m     \u001b[0;32melse\u001b[0m\u001b[0;34m:\u001b[0m\u001b[0;34m\u001b[0m\u001b[0;34m\u001b[0m\u001b[0m\n\u001b[1;32m    790\u001b[0m         \u001b[0mpattern\u001b[0m \u001b[0;34m=\u001b[0m \u001b[0;32mNone\u001b[0m\u001b[0;34m\u001b[0m\u001b[0;34m\u001b[0m\u001b[0m\n",
      "\u001b[0;32m~/anaconda3/lib/python3.9/sre_parse.py\u001b[0m in \u001b[0;36mparse\u001b[0;34m(str, flags, state)\u001b[0m\n\u001b[1;32m    953\u001b[0m \u001b[0;34m\u001b[0m\u001b[0m\n\u001b[1;32m    954\u001b[0m     \u001b[0;32mtry\u001b[0m\u001b[0;34m:\u001b[0m\u001b[0;34m\u001b[0m\u001b[0;34m\u001b[0m\u001b[0m\n\u001b[0;32m--> 955\u001b[0;31m         \u001b[0mp\u001b[0m \u001b[0;34m=\u001b[0m \u001b[0m_parse_sub\u001b[0m\u001b[0;34m(\u001b[0m\u001b[0msource\u001b[0m\u001b[0;34m,\u001b[0m \u001b[0mstate\u001b[0m\u001b[0;34m,\u001b[0m \u001b[0mflags\u001b[0m \u001b[0;34m&\u001b[0m \u001b[0mSRE_FLAG_VERBOSE\u001b[0m\u001b[0;34m,\u001b[0m \u001b[0;36m0\u001b[0m\u001b[0;34m)\u001b[0m\u001b[0;34m\u001b[0m\u001b[0;34m\u001b[0m\u001b[0m\n\u001b[0m\u001b[1;32m    956\u001b[0m     \u001b[0;32mexcept\u001b[0m \u001b[0mVerbose\u001b[0m\u001b[0;34m:\u001b[0m\u001b[0;34m\u001b[0m\u001b[0;34m\u001b[0m\u001b[0m\n\u001b[1;32m    957\u001b[0m         \u001b[0;31m# the VERBOSE flag was switched on inside the pattern.  to be\u001b[0m\u001b[0;34m\u001b[0m\u001b[0;34m\u001b[0m\u001b[0m\n",
      "\u001b[0;32m~/anaconda3/lib/python3.9/sre_parse.py\u001b[0m in \u001b[0;36m_parse_sub\u001b[0;34m(source, state, verbose, nested)\u001b[0m\n\u001b[1;32m    442\u001b[0m     \u001b[0mstart\u001b[0m \u001b[0;34m=\u001b[0m \u001b[0msource\u001b[0m\u001b[0;34m.\u001b[0m\u001b[0mtell\u001b[0m\u001b[0;34m(\u001b[0m\u001b[0;34m)\u001b[0m\u001b[0;34m\u001b[0m\u001b[0;34m\u001b[0m\u001b[0m\n\u001b[1;32m    443\u001b[0m     \u001b[0;32mwhile\u001b[0m \u001b[0;32mTrue\u001b[0m\u001b[0;34m:\u001b[0m\u001b[0;34m\u001b[0m\u001b[0;34m\u001b[0m\u001b[0m\n\u001b[0;32m--> 444\u001b[0;31m         itemsappend(_parse(source, state, verbose, nested + 1,\n\u001b[0m\u001b[1;32m    445\u001b[0m                            not nested and not items))\n\u001b[1;32m    446\u001b[0m         \u001b[0;32mif\u001b[0m \u001b[0;32mnot\u001b[0m \u001b[0msourcematch\u001b[0m\u001b[0;34m(\u001b[0m\u001b[0;34m\"|\"\u001b[0m\u001b[0;34m)\u001b[0m\u001b[0;34m:\u001b[0m\u001b[0;34m\u001b[0m\u001b[0;34m\u001b[0m\u001b[0m\n",
      "\u001b[0;32m~/anaconda3/lib/python3.9/sre_parse.py\u001b[0m in \u001b[0;36m_parse\u001b[0;34m(source, state, verbose, nested, first)\u001b[0m\n\u001b[1;32m    841\u001b[0m             \u001b[0mp\u001b[0m \u001b[0;34m=\u001b[0m \u001b[0m_parse_sub\u001b[0m\u001b[0;34m(\u001b[0m\u001b[0msource\u001b[0m\u001b[0;34m,\u001b[0m \u001b[0mstate\u001b[0m\u001b[0;34m,\u001b[0m \u001b[0msub_verbose\u001b[0m\u001b[0;34m,\u001b[0m \u001b[0mnested\u001b[0m \u001b[0;34m+\u001b[0m \u001b[0;36m1\u001b[0m\u001b[0;34m)\u001b[0m\u001b[0;34m\u001b[0m\u001b[0;34m\u001b[0m\u001b[0m\n\u001b[1;32m    842\u001b[0m             \u001b[0;32mif\u001b[0m \u001b[0;32mnot\u001b[0m \u001b[0msource\u001b[0m\u001b[0;34m.\u001b[0m\u001b[0mmatch\u001b[0m\u001b[0;34m(\u001b[0m\u001b[0;34m\")\"\u001b[0m\u001b[0;34m)\u001b[0m\u001b[0;34m:\u001b[0m\u001b[0;34m\u001b[0m\u001b[0;34m\u001b[0m\u001b[0m\n\u001b[0;32m--> 843\u001b[0;31m                 raise source.error(\"missing ), unterminated subpattern\",\n\u001b[0m\u001b[1;32m    844\u001b[0m                                    source.tell() - start)\n\u001b[1;32m    845\u001b[0m             \u001b[0;32mif\u001b[0m \u001b[0mgroup\u001b[0m \u001b[0;32mis\u001b[0m \u001b[0;32mnot\u001b[0m \u001b[0;32mNone\u001b[0m\u001b[0;34m:\u001b[0m\u001b[0;34m\u001b[0m\u001b[0;34m\u001b[0m\u001b[0m\n",
      "\u001b[0;31merror\u001b[0m: missing ), unterminated subpattern at position 4"
     ]
    }
   ],
   "source": [
    "address = []\n",
    "for i in range(0, len(df.index)):\n",
    "    address.append(get_address(df.DEFENDANT[i],df.DEFENDANT_ATTORNEY[i],df.PARTIES[i]))\n"
   ]
  },
  {
   "cell_type": "markdown",
   "metadata": {},
   "source": []
  },
  {
   "cell_type": "code",
   "execution_count": 33,
   "metadata": {},
   "outputs": [
    {
     "data": {
      "text/plain": [
       "'Tracy Green[^\\\\S\\r\\n]{2,}John A Lentz [\\\\S\\\\s]* NE \\\\d{5}'"
      ]
     },
     "execution_count": 33,
     "metadata": {},
     "output_type": "execute_result"
    }
   ],
   "source": [
    "matching_format"
   ]
  },
  {
   "cell_type": "markdown",
   "metadata": {},
   "source": []
  },
  {
   "cell_type": "code",
   "execution_count": null,
   "metadata": {},
   "outputs": [],
   "source": []
  }
 ],
 "metadata": {
  "kernelspec": {
   "display_name": "base",
   "language": "python",
   "name": "python3"
  },
  "language_info": {
   "codemirror_mode": {
    "name": "ipython",
    "version": 3
   },
   "file_extension": ".py",
   "mimetype": "text/x-python",
   "name": "python",
   "nbconvert_exporter": "python",
   "pygments_lexer": "ipython3",
   "version": "3.9.13"
  },
  "orig_nbformat": 4
 },
 "nbformat": 4,
 "nbformat_minor": 2
}
